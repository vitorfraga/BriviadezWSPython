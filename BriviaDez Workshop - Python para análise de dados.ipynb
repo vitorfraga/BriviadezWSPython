{
 "cells": [
  {
   "cell_type": "markdown",
   "metadata": {},
   "source": [
    "# BriviaDez Workshop - Python para análise de dados\n",
    "\n",
    "\n",
    "## Dia 0 - 29.10.2020\n",
    "\n",
    "### The Zen of Python, by Tim Peters\n",
    "\n",
    "Bonito é melhor que feio <br/>\n",
    "Explícito é melhor que implícito<br/>\n",
    "Simples é melhor que complexo<br/>\n",
    "Complexo é melhor que complicado<br/>\n",
    "Linear é melhor do que aninhado<br/>\n",
    "Esparso é melhor que denso<br/>\n",
    "Legibilidade conta<br/>\n",
    "Casos especiais não são especiais o bastante para quebrar as regras.<br/>\n",
    "Ainda que praticidade vença a pureza<br/>\n",
    "Erros nunca devem passar silenciosamente.<br/>\n",
    "A menos que sejam explicitamente silenciados<br/>\n",
    "Diante da ambiguidade, recuse a tentação de adivinhar<br/>\n",
    "Deveria haver um — e preferencialmente apenas um — modo óbvio para fazer algo.<br/>\n",
    "Embora esse modo possa não ser óbvio a princípio a menos que você seja holandês<br/>\n",
    "Agora é melhor que nunca<br/>\n",
    "Embora nunca freqüentemente seja melhor que já<br/>\n",
    "Se a implementação é difícil de explicar, é uma má ideia<br/>\n",
    "Se a implementação é fácil de explicar, pode ser uma boa ideia<br/>\n",
    "Namespaces são uma grande ideia — vamos ter mais dessas!<br/>\n",
    "\n",
    "**ROTEIRO**<br/><br/>\n",
    "\n",
    "**1) Apresentar o Workshop**.<br/>\n",
    "**2) Apresentar o Anaconda.**<br/>\n",
    "**3) Apresentar algumas ferramentas para edição de codigo Python.**<br/>\n",
    "**4) Coletar a opinição da turma através do Twitter.**<br/>\n",
    "\n",
    "    \n",
    "\n",
    "## Dia 1 - A definir\n",
    "## Dia 2 - A definir\n",
    "    \n"
   ]
  }
 ],
 "metadata": {
  "kernelspec": {
   "display_name": "Python 3",
   "language": "python",
   "name": "python3"
  },
  "language_info": {
   "codemirror_mode": {
    "name": "ipython",
    "version": 3
   },
   "file_extension": ".py",
   "mimetype": "text/x-python",
   "name": "python",
   "nbconvert_exporter": "python",
   "pygments_lexer": "ipython3",
   "version": "3.7.6"
  }
 },
 "nbformat": 4,
 "nbformat_minor": 4
}
