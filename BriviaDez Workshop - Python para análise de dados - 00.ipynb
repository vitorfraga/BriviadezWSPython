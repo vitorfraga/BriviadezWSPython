{
 "cells": [
  {
   "cell_type": "markdown",
   "metadata": {},
   "source": [
    "# Coletando a opinião da turma atraés do twitter!\n",
    "\n",
    "\n",
    "## Primeiro, importamos algumas bibliotecas necessárias.\n"
   ]
  },
  {
   "cell_type": "code",
   "execution_count": 4,
   "metadata": {},
   "outputs": [],
   "source": [
    "# Importa as bibliotecas necessárias\n",
    "\n",
    "from dotenv import load_dotenv # Bliclioteca para gerenciar váriveis de ambiente\n",
    "import os # biblioteca para acessar o sistema operacional\n",
    "import tweepy\n",
    "# Biblioteca para para acessar a API do Twitter\n",
    "import re # Biblioteca para utilizar Regex\n",
    "import pandas as pd # Importa o Pandas\n",
    "import matplotlib.pyplot as plt # DataViz\n",
    "import seaborn as sns # Dataviz"
   ]
  },
  {
   "cell_type": "markdown",
   "metadata": {},
   "source": [
    "## Agora, vamos recuperar nossas chaves de autenticação do twitter."
   ]
  },
  {
   "cell_type": "code",
   "execution_count": 8,
   "metadata": {},
   "outputs": [],
   "source": [
    "# Recupera as variáveis pra realizar a autenticação\n",
    "\n",
    "load_dotenv() # Executa uma função que chama load_dotenv\n",
    "api_key = os.getenv(\"api_key\") # Recupera a variávek api_key\n",
    "api_key_secret = os.getenv(\"api_key_secret\") # Recupera a variável api_key_secret\n",
    "access_token = os.getenv(\"access_token\") # Recupera a vaiável access_token\n",
    "access_token_secret = os.getenv(\"access_token_secret\") # Recupera a variável access_token_secret"
   ]
  },
  {
   "cell_type": "markdown",
   "metadata": {},
   "source": [
    "## Neste teceiro passo, vamos solicitar permisão para trabalhar com a API."
   ]
  },
  {
   "cell_type": "code",
   "execution_count": 10,
   "metadata": {},
   "outputs": [],
   "source": [
    "# Realiza autenticação na API do twitter\n",
    "\n",
    "auth = tweepy.OAuthHandler(api_key, api_key_secret)  \n",
    "auth.set_access_token(access_token, access_token_secret)\n",
    "api = tweepy.API(auth) # Neste passo já estamos autenticados na API do twitter"
   ]
  },
  {
   "cell_type": "markdown",
   "metadata": {},
   "source": [
    "## Vamos para as perguntas de hoje!\n",
    "Mas antes, umas orientações de como devem ser respondidas.<br/> \n",
    "Você deve twittar \"#BriviadezWSPython Qx:y\", onde **x** é u número da questão e **y** é a letra. Por exemplo:<br/>\n",
    "\"#BriviadezWSPython Q1:A\""
   ]
  },
  {
   "cell_type": "markdown",
   "metadata": {},
   "source": [
    "### Q1: Como você classificaria o seu nível como programador ?\n",
    "\n",
    "    A) Nunca programei\n",
    "    B) Iniciante\n",
    "    C) Médio\n",
    "    D) Avançado"
   ]
  },
  {
   "cell_type": "code",
   "execution_count": 11,
   "metadata": {},
   "outputs": [
    {
     "name": "stdout",
     "output_type": "stream",
     "text": [
      "Total de respostas: 2\n"
     ]
    },
    {
     "data": {
      "image/png": "[encoded data removed]",
      "text/plain": [
       "<Figure size 360x360 with 1 Axes>"
      ]
     },
     "metadata": {
      "needs_background": "light"
     },
     "output_type": "display_data"
    }
   ],
   "source": [
    "#Resposta Q1\n",
    "hashtag = '#BriviadezWSPython' # hashtag a ser buscada\n",
    "tweets = [] # Tweets com aquela hashtag, no nosso caso, nossas Respostas ;D\n",
    "users = [] # Recupera os usuários dos tweets\n",
    "\n",
    "for tweet in tweepy.Cursor(api.search, q=hashtag, count=10,tweet_mode='extended', wait_on_rate_limit=True).items(10):\n",
    "    tweets.append(tweet.full_text.replace('#BriviadezWSPython ', '').split(':'))\n",
    "    #users.append(tweet.user)\n",
    "    \n",
    "df = pd.DataFrame(tweets, columns=['pergunta', 'resposta'])\n",
    "dfq1 = df[df['pergunta']=='Q1']\n",
    "print('Total de respostas:',len(dfq1))\n",
    "ax = sns.catplot(x='resposta',kind='count', data=dfq1,palette='ch:.25',order=['A', 'B', 'C', \"D\"])\n",
    "ax.set(ylabel='Qtd respostas', xlabel='opções', title='Respostas para Q1')\n",
    "plt.show()"
   ]
  },
  {
   "cell_type": "markdown",
   "metadata": {},
   "source": [
    "### Q2: Que tipo de bases de dados você gostaria de poder ver nos cases apresentados?\n",
    "\n",
    "    A) CSV, Excel\n",
    "    B) Bancos de dados Relacionais (SQL Server, PostgreSQL, MySQL) entre outros\n",
    "    C) Bancos de dados não relacionais (MongoDB) entre outros \n",
    "    D) API'S (Facebook, Instagram, Twitter) entre outras\n",
    "    E) Webscraping (Extrair dados de paginas WEB)"
   ]
  },
  {
   "cell_type": "code",
   "execution_count": 12,
   "metadata": {},
   "outputs": [
    {
     "name": "stdout",
     "output_type": "stream",
     "text": [
      "Total de respostas: 1\n"
     ]
    },
    {
     "data": {
      "image/png": "[encoded data removed]",
      "text/plain": [
       "<Figure size 360x360 with 1 Axes>"
      ]
     },
     "metadata": {
      "needs_background": "light"
     },
     "output_type": "display_data"
    }
   ],
   "source": [
    "#Resposta Q2\n",
    "hashtag = '#BriviadezWSPython' # hashtag a ser buscada\n",
    "tweets = [] # Tweets com aquela hashtag, no nosso caso, nossas Respostas ;D\n",
    "users = [] # Recupera os usuários dos tweets\n",
    "\n",
    "for tweet in tweepy.Cursor(api.search, q=hashtag, count=10,tweet_mode='extended', wait_on_rate_limit=True).items(10):\n",
    "    tweets.append(tweet.full_text.replace('#BriviadezWSPython ', '').split(':'))\n",
    "    #users.append(tweet.user)\n",
    "    \n",
    "df = pd.DataFrame(tweets, columns=['pergunta', 'resposta'])\n",
    "dfq1 = df[df['pergunta']=='Q2']\n",
    "print('Total de respostas:',len(dfq1))\n",
    "ax = sns.catplot(x='resposta',kind='count', data=dfq1,palette='ch:.25',order=['A', 'B', 'C', 'D', 'E'])\n",
    "ax.set(ylabel='Qtd respostas', xlabel='opções', title='Respostas para Q2')\n",
    "plt.show()"
   ]
  },
  {
   "cell_type": "code",
   "execution_count": null,
   "metadata": {},
   "outputs": [],
   "source": []
  }
 ],
 "metadata": {
  "kernelspec": {
   "display_name": "Python 3",
   "language": "python",
   "name": "python3"
  },
  "language_info": {
   "codemirror_mode": {
    "name": "ipython",
    "version": 3
   },
   "file_extension": ".py",
   "mimetype": "text/x-python",
   "name": "python",
   "nbconvert_exporter": "python",
   "pygments_lexer": "ipython3",
   "version": "3.7.6"
  }
 },
 "nbformat": 4,
 "nbformat_minor": 4
}
